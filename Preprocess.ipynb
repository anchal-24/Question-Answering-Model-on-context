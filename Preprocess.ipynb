{
  "nbformat": 4,
  "nbformat_minor": 0,
  "metadata": {
    "kernelspec": {
      "display_name": "Python 3",
      "language": "python",
      "name": "python3"
    },
    "language_info": {
      "codemirror_mode": {
        "name": "ipython",
        "version": 3
      },
      "file_extension": ".py",
      "mimetype": "text/x-python",
      "name": "python",
      "nbconvert_exporter": "python",
      "pygments_lexer": "ipython3",
      "version": "3.6.10"
    },
    "colab": {
      "name": " Preprocess v-2.ipynb",
      "provenance": [],
      "toc_visible": true,
      "include_colab_link": true
    }
  },
  "cells": [
    {
      "cell_type": "markdown",
      "metadata": {
        "id": "view-in-github",
        "colab_type": "text"
      },
      "source": [
        "<a href=\"https://colab.research.google.com/github/anchal-24/Question-Answering-Model-on-context/blob/master/Preprocess_v_2.ipynb\" target=\"_parent\"><img src=\"https://colab.research.google.com/assets/colab-badge.svg\" alt=\"Open In Colab\"/></a>"
      ]
    },
    {
      "cell_type": "code",
      "metadata": {
        "id": "znNkyWXMSOJp",
        "outputId": "95ed97b0-6f8b-4512-b313-81f8592c04d6",
        "colab": {
          "base_uri": "https://localhost:8080/",
          "height": 34
        }
      },
      "source": [
        "from google.colab import drive\n",
        "drive.mount('/content/drive')"
      ],
      "execution_count": null,
      "outputs": [
        {
          "output_type": "stream",
          "text": [
            "Mounted at /content/drive\n"
          ],
          "name": "stdout"
        }
      ]
    },
    {
      "cell_type": "code",
      "metadata": {
        "id": "k4hDL_BCQA2N",
        "outputId": "f5c3bd12-375c-4b34-c907-a3cd3d7d071c",
        "colab": {
          "base_uri": "https://localhost:8080/",
          "height": 359
        }
      },
      "source": [
        "import pandas as pd;\n",
        "import numpy as np\n",
        "\n",
        "\n",
        "df=pd.read_csv(\"/content/drive/My Drive/FAQ_MachineLearningInterview_com.csv\");\n",
        "df.columns=[\"questions\",\"answers\"];\n",
        "\n",
        "df"
      ],
      "execution_count": 4,
      "outputs": [
        {
          "output_type": "execute_result",
          "data": {
            "text/html": [
              "<div>\n",
              "<style scoped>\n",
              "    .dataframe tbody tr th:only-of-type {\n",
              "        vertical-align: middle;\n",
              "    }\n",
              "\n",
              "    .dataframe tbody tr th {\n",
              "        vertical-align: top;\n",
              "    }\n",
              "\n",
              "    .dataframe thead th {\n",
              "        text-align: right;\n",
              "    }\n",
              "</style>\n",
              "<table border=\"1\" class=\"dataframe\">\n",
              "  <thead>\n",
              "    <tr style=\"text-align: right;\">\n",
              "      <th></th>\n",
              "      <th>questions</th>\n",
              "      <th>answers</th>\n",
              "    </tr>\n",
              "  </thead>\n",
              "  <tbody>\n",
              "    <tr>\n",
              "      <th>0</th>\n",
              "      <td>What does the job hunting experience look like ?</td>\n",
              "      <td>Job hunting experience involves networking to ...</td>\n",
              "    </tr>\n",
              "    <tr>\n",
              "      <th>1</th>\n",
              "      <td>Any insights you can offer about the DS job ma...</td>\n",
              "      <td>There are many kinds of roles, data scientist,...</td>\n",
              "    </tr>\n",
              "    <tr>\n",
              "      <th>2</th>\n",
              "      <td>What’s the impact of Covid on hiring for DS ro...</td>\n",
              "      <td>Hiring is going to slow down. First in small c...</td>\n",
              "    </tr>\n",
              "    <tr>\n",
              "      <th>3</th>\n",
              "      <td>What skills and qualities do employers look fo...</td>\n",
              "      <td>The following are some skills employers usuall...</td>\n",
              "    </tr>\n",
              "    <tr>\n",
              "      <th>4</th>\n",
              "      <td>Do employers look for an advanced ML degree?</td>\n",
              "      <td>For more senior roles: People typically look f...</td>\n",
              "    </tr>\n",
              "    <tr>\n",
              "      <th>5</th>\n",
              "      <td>How does a typical day of a data scientist loo...</td>\n",
              "      <td>Here are some tasks in the typical day of a da...</td>\n",
              "    </tr>\n",
              "    <tr>\n",
              "      <th>6</th>\n",
              "      <td>Is preparation of algorithms and data structur...</td>\n",
              "      <td>Yes. In many data science interviews (ML Scien...</td>\n",
              "    </tr>\n",
              "    <tr>\n",
              "      <th>7</th>\n",
              "      <td>What is the mathematical background required t...</td>\n",
              "      <td>The following three are the basic building blo...</td>\n",
              "    </tr>\n",
              "    <tr>\n",
              "      <th>8</th>\n",
              "      <td>What are the various rounds in a data scientis...</td>\n",
              "      <td>Usually the data science interview has a subse...</td>\n",
              "    </tr>\n",
              "    <tr>\n",
              "      <th>9</th>\n",
              "      <td>What level of proficiency is needed for a data...</td>\n",
              "      <td>Needs to be reasonably proficient. Again, a da...</td>\n",
              "    </tr>\n",
              "  </tbody>\n",
              "</table>\n",
              "</div>"
            ],
            "text/plain": [
              "                                           questions                                            answers\n",
              "0   What does the job hunting experience look like ?  Job hunting experience involves networking to ...\n",
              "1  Any insights you can offer about the DS job ma...  There are many kinds of roles, data scientist,...\n",
              "2  What’s the impact of Covid on hiring for DS ro...  Hiring is going to slow down. First in small c...\n",
              "3  What skills and qualities do employers look fo...  The following are some skills employers usuall...\n",
              "4       Do employers look for an advanced ML degree?  For more senior roles: People typically look f...\n",
              "5  How does a typical day of a data scientist loo...  Here are some tasks in the typical day of a da...\n",
              "6  Is preparation of algorithms and data structur...  Yes. In many data science interviews (ML Scien...\n",
              "7  What is the mathematical background required t...  The following three are the basic building blo...\n",
              "8  What are the various rounds in a data scientis...  Usually the data science interview has a subse...\n",
              "9  What level of proficiency is needed for a data...  Needs to be reasonably proficient. Again, a da..."
            ]
          },
          "metadata": {
            "tags": []
          },
          "execution_count": 4
        }
      ]
    },
    {
      "cell_type": "code",
      "metadata": {
        "id": "kmBGAJW3QA2j",
        "outputId": "50cc347f-cb1c-4fae-8dac-c14e1c3cf814",
        "colab": {
          "base_uri": "https://localhost:8080/",
          "height": 71
        }
      },
      "source": [
        "\n",
        "import re\n",
        "import gensim \n",
        "from gensim.parsing.preprocessing import remove_stopwords\n",
        "\n",
        "#from nltk.stem.lancaster import LancasterStemmer\n",
        "#st = LancasterStemmer()\n",
        "\n",
        "def clean_sentence(sentence, stopwords=False):\n",
        "    \n",
        "    sentence = sentence.lower().strip()\n",
        "    sentence = re.sub(r'[^a-z0-9\\s]', '', sentence)\n",
        "    #sentence = re.sub(r'\\s{2,}', ' ', sentence)\n",
        "    \n",
        "    if stopwords:\n",
        "         sentence = remove_stopwords(sentence)\n",
        "    \n",
        "    #sent_stemmed='';\n",
        "    #for word in sentence.split():\n",
        "    #    sent_stemmed+=' '+st.stem(word) \n",
        "    #sentence=sent_stemmed\n",
        "    \n",
        "    return sentence\n",
        "                    \n",
        "def get_cleaned_sentences(df,stopwords=False):    \n",
        "    sents=df[[\"questions\"]];\n",
        "    cleaned_sentences=[]\n",
        "\n",
        "    for index,row in df.iterrows():\n",
        "        #print(index,row)\n",
        "        cleaned=clean_sentence(row[\"questions\"],stopwords);\n",
        "        cleaned_sentences.append(cleaned);\n",
        "    return cleaned_sentences;\n",
        "\n",
        "cleaned_sentences=get_cleaned_sentences(df,stopwords=True)\n",
        "print(cleaned_sentences);\n",
        "\n",
        "# print(\"\\n\")\n",
        "\n",
        "cleaned_sentences_with_stopwords=get_cleaned_sentences(df,stopwords=False)\n",
        "print(cleaned_sentences_with_stopwords);\n",
        "    "
      ],
      "execution_count": 7,
      "outputs": [
        {
          "output_type": "stream",
          "text": [
            "['job hunting experience look like', 'insights offer ds job market', 'whats impact covid hiring ds roles', 'skills qualities employers look data scientist', 'employers look advanced ml degree', 'typical day data scientist look like', 'preparation algorithms data structures needed data science interview', 'mathematical background required data scientist', 'rounds data scientist interview', 'level proficiency needed data scientist coding']\n",
            "['what does the job hunting experience look like ', 'any insights you can offer about the ds job market ', 'whats the impact of covid on hiring for ds roles', 'what skills and qualities do employers look for in a data scientist', 'do employers look for an advanced ml degree', 'how does a typical day of a data scientist look like', 'is preparation of algorithms and data structures needed for a data science interview ', 'what is the mathematical background required to be a data scientist ', 'what are the various rounds in a data scientist interview ', 'what level of proficiency is needed for a data scientist in coding']\n"
          ],
          "name": "stdout"
        }
      ]
    },
    {
      "cell_type": "code",
      "metadata": {
        "id": "eqxxAU3nSMOi"
      },
      "source": [
        ""
      ],
      "execution_count": null,
      "outputs": []
    },
    {
      "cell_type": "code",
      "metadata": {
        "id": "OwbHHkQb1D42",
        "outputId": "92ee85c1-10e3-4c71-a3a6-eb9bd65ae34d",
        "colab": {
          "base_uri": "https://localhost:8080/",
          "height": 35
        }
      },
      "source": [
        "sentence=\"What does the job hunting experience look like ?\"\n",
        "sentence = re.sub(r'[^a-z0-9\\s]', '', sentence)\n",
        "print(sentence)\n",
        "# df[[\"questions\"]]\n"
      ],
      "execution_count": null,
      "outputs": [
        {
          "output_type": "stream",
          "text": [
            "hat does the job hunting experience look like \n"
          ],
          "name": "stdout"
        }
      ]
    },
    {
      "cell_type": "markdown",
      "metadata": {
        "id": "2aoQ3joBQA2t"
      },
      "source": [
        "# Bag of words Model\n"
      ]
    },
    {
      "cell_type": "code",
      "metadata": {
        "id": "A9gJ8pFxQA2v",
        "outputId": "a12dbf43-507b-4cf0-84b7-7ad05b25ed1e",
        "colab": {
          "base_uri": "https://localhost:8080/",
          "height": 1000
        }
      },
      "source": [
        "import numpy\n",
        "\n",
        "sentences=cleaned_sentences_with_stopwords\n",
        "#sentences=cleaned_sentences\n",
        "\n",
        "# Split it by white space \n",
        "sentence_words = [[word for word in document.split() ]\n",
        "         for document in sentences]\n",
        "\n",
        "from gensim import corpora\n",
        "\n",
        "dictionary = corpora.Dictionary(sentence_words)\n",
        "for key, value in dictionary.items():\n",
        "    print(key, ' : ', value)\n",
        "\n",
        "import pprint\n",
        "bow_corpus = [dictionary.doc2bow(text) for text in sentence_words]\n",
        "\n",
        "# print(sentence_words)\n",
        "for sent,embedding in zip(sentences,bow_corpus):\n",
        "    print(sent)\n",
        "    print(embedding)\n",
        "\n",
        "#question_orig=\"do I need to learn algorithms to be a data scientist ?\";\n",
        "question_orig = \"What does a data scientist usually do ?\"\n",
        "question = clean_sentence(question_orig,stopwords=False);\n",
        "question_embedding = dictionary.doc2bow(question.split())\n",
        "\n",
        "\n",
        "print(\"\\n\\n\",question,\"\\n\",question_embedding)"
      ],
      "execution_count": null,
      "outputs": [
        {
          "output_type": "stream",
          "text": [
            "0  :  does\n",
            "1  :  experience\n",
            "2  :  hunting\n",
            "3  :  job\n",
            "4  :  like\n",
            "5  :  look\n",
            "6  :  the\n",
            "7  :  what\n",
            "8  :  about\n",
            "9  :  any\n",
            "10  :  can\n",
            "11  :  ds\n",
            "12  :  insights\n",
            "13  :  market\n",
            "14  :  offer\n",
            "15  :  you\n",
            "16  :  covid\n",
            "17  :  for\n",
            "18  :  hiring\n",
            "19  :  impact\n",
            "20  :  of\n",
            "21  :  on\n",
            "22  :  roles\n",
            "23  :  whats\n",
            "24  :  a\n",
            "25  :  and\n",
            "26  :  data\n",
            "27  :  do\n",
            "28  :  employers\n",
            "29  :  in\n",
            "30  :  qualities\n",
            "31  :  scientist\n",
            "32  :  skills\n",
            "33  :  advanced\n",
            "34  :  an\n",
            "35  :  degree\n",
            "36  :  ml\n",
            "37  :  day\n",
            "38  :  how\n",
            "39  :  typical\n",
            "40  :  algorithms\n",
            "41  :  interview\n",
            "42  :  is\n",
            "43  :  needed\n",
            "44  :  preparation\n",
            "45  :  science\n",
            "46  :  structures\n",
            "47  :  background\n",
            "48  :  be\n",
            "49  :  mathematical\n",
            "50  :  required\n",
            "51  :  to\n",
            "52  :  are\n",
            "53  :  rounds\n",
            "54  :  various\n",
            "55  :  coding\n",
            "56  :  level\n",
            "57  :  proficiency\n",
            "what does the job hunting experience look like \n",
            "[(0, 1), (1, 1), (2, 1), (3, 1), (4, 1), (5, 1), (6, 1), (7, 1)]\n",
            "any insights you can offer about the ds job market \n",
            "[(3, 1), (6, 1), (8, 1), (9, 1), (10, 1), (11, 1), (12, 1), (13, 1), (14, 1), (15, 1)]\n",
            "whats the impact of covid on hiring for ds roles\n",
            "[(6, 1), (11, 1), (16, 1), (17, 1), (18, 1), (19, 1), (20, 1), (21, 1), (22, 1), (23, 1)]\n",
            "what skills and qualities do employers look for in a data scientist\n",
            "[(5, 1), (7, 1), (17, 1), (24, 1), (25, 1), (26, 1), (27, 1), (28, 1), (29, 1), (30, 1), (31, 1), (32, 1)]\n",
            "do employers look for an advanced ml degree\n",
            "[(5, 1), (17, 1), (27, 1), (28, 1), (33, 1), (34, 1), (35, 1), (36, 1)]\n",
            "how does a typical day of a data scientist look like\n",
            "[(0, 1), (4, 1), (5, 1), (20, 1), (24, 2), (26, 1), (31, 1), (37, 1), (38, 1), (39, 1)]\n",
            "is preparation of algorithms and data structures needed for a data science interview \n",
            "[(17, 1), (20, 1), (24, 1), (25, 1), (26, 2), (40, 1), (41, 1), (42, 1), (43, 1), (44, 1), (45, 1), (46, 1)]\n",
            "what is the mathematical background required to be a data scientist \n",
            "[(6, 1), (7, 1), (24, 1), (26, 1), (31, 1), (42, 1), (47, 1), (48, 1), (49, 1), (50, 1), (51, 1)]\n",
            "what are the various rounds in a data scientist interview \n",
            "[(6, 1), (7, 1), (24, 1), (26, 1), (29, 1), (31, 1), (41, 1), (52, 1), (53, 1), (54, 1)]\n",
            "what level of proficiency is needed for a data scientist in coding\n",
            "[(7, 1), (17, 1), (20, 1), (24, 1), (26, 1), (29, 1), (31, 1), (42, 1), (43, 1), (55, 1), (56, 1), (57, 1)]\n",
            "\n",
            "\n",
            " what does a data scientist usually do  \n",
            " [(0, 1), (7, 1), (24, 1), (26, 1), (27, 1), (31, 1)]\n"
          ],
          "name": "stdout"
        }
      ]
    },
    {
      "cell_type": "markdown",
      "metadata": {
        "id": "ASXn4AOZQA23"
      },
      "source": [
        "Once we find a vector representation for each sentence using BOW,we can compute the distance between two vectors by taking the cosine similarity. Note other similarity measure can be used as well, but we will stick to cosine similarity throughout for simplicity.\n",
        "\n",
        "The closest matching answer can be retrieved by finding the cosine similarity of the query vector with each of the FAQ question vectors. \n",
        "\n",
        "We see that in the example below, BOW representation did not do very well and retrieved the wrong answer since it is looking for exact word match. For instance the word \"learn\" in the query is similar to \"prepare\" in \"Do we need to prepare algorithms and data structures for data science interview?\". However BOW cannot figure this out.  "
      ]
    },
    {
      "cell_type": "code",
      "metadata": {
        "id": "EHMGQKapQA26",
        "outputId": "881da2fd-7e27-4570-bf37-f8de9863befd",
        "colab": {
          "base_uri": "https://localhost:8080/",
          "height": 326
        }
      },
      "source": [
        "import sklearn\n",
        "from sklearn.metrics.pairwise import cosine_similarity;\n",
        "def retrieveAndPrintFAQAnswer(question_embedding,sentence_embeddings,FAQdf,sentences):\n",
        "    max_sim=-1;\n",
        "    index_sim=-1;\n",
        "    for index,faq_embedding in enumerate(sentence_embeddings):\n",
        "        #sim=cosine_similarity(embedding.reshape(1, -1),question_embedding.reshape(1, -1))[0][0];\n",
        "        sim=cosine_similarity(faq_embedding,question_embedding)[0][0];\n",
        "        print(index, sim, sentences[index])\n",
        "        if sim>max_sim:\n",
        "            max_sim=sim;\n",
        "            index_sim=index;\n",
        "       \n",
        "    print(\"\\n\")\n",
        "    print(\"Question: \",question)\n",
        "    print(\"\\n\");\n",
        "    print(\"Retrieved: \",FAQdf.iloc[index_sim,0]) \n",
        "    print(FAQdf.iloc[index_sim,1])        \n",
        "    \n",
        "retrieveAndPrintFAQAnswer(question_embedding,bow_corpus,df,sentences);"
      ],
      "execution_count": null,
      "outputs": [
        {
          "output_type": "stream",
          "text": [
            "0 1.0 what does the job hunting experience look like \n",
            "1 0.31622776601683794 any insights you can offer about the ds job market \n",
            "2 0.1643989873053573 whats the impact of covid on hiring for ds roles\n",
            "3 0.19611613513818404 what skills and qualities do employers look for in a data scientist\n",
            "4 0.19611613513818404 do employers look for an advanced ml degree\n",
            "5 1.0 how does a typical day of a data scientist look like\n",
            "6 0.058722021951470346 is preparation of algorithms and data structures needed for a data science interview \n",
            "7 0.1643989873053573 what is the mathematical background required to be a data scientist \n",
            "8 0.1643989873053573 what are the various rounds in a data scientist interview \n",
            "9 0.1414213562373095 what level of proficiency is needed for a data scientist in coding\n",
            "\n",
            "\n",
            "Question:  what does a data scientist usually do \n",
            "\n",
            "\n",
            "Retrieved:  What does the job hunting experience look like ?\n",
            "Job hunting experience involves networking to get in touch with the right people in various companies, applying to lots of jobs through various channels, preparing for interviews – while interviews are uncertain it is necessary to prepare well what you CAN prepare, smart scheduling of interviews to get the best job and salary you can.\n"
          ],
          "name": "stdout"
        }
      ]
    },
    {
      "cell_type": "markdown",
      "metadata": {
        "id": "CjSyL4HFQA3C"
      },
      "source": [
        "# Word2Vec Embeddings\n",
        "\n",
        "\n"
      ]
    },
    {
      "cell_type": "code",
      "metadata": {
        "id": "SzU3JxRkQA3J",
        "outputId": "cf8b0c6b-2c02-48ca-a12d-9552b71d516b",
        "colab": {
          "base_uri": "https://localhost:8080/",
          "height": 122
        }
      },
      "source": [
        "from gensim.models import Word2Vec \n",
        "import gensim.downloader as api\n",
        "\n",
        "\n",
        "glove_model=None;\n",
        "try:\n",
        "    glove_model = gensim.models.KeyedVectors.load(\"./glovemodel.mod\")\n",
        "    print(\"Loaded glove model\")\n",
        "except:            \n",
        "    glove_model = api.load('glove-twitter-25')\n",
        "    glove_model.save(\"./glovemodel.mod\")\n",
        "    print(\"Saved glove model\")\n",
        "    \n",
        "v2w_model=None;\n",
        "try:\n",
        "    v2w_model = gensim.models.KeyedVectors.load(\"./w2vecmodel.mod\")\n",
        "    print(\"Loaded w2v model\")\n",
        "except:            \n",
        "    v2w_model = api.load('word2vec-google-news-300')\n",
        "    v2w_model.save(\"./w2vecmodel.mod\")\n",
        "    print(\"Saved glove model\")\n",
        "\n",
        "w2vec_embedding_size=len(v2w_model['computer']);\n",
        "glove_embedding_size=len(glove_model['computer']);\n"
      ],
      "execution_count": null,
      "outputs": [
        {
          "output_type": "stream",
          "text": [
            "/usr/local/lib/python3.6/dist-packages/smart_open/smart_open_lib.py:254: UserWarning: This function is deprecated, use smart_open.open instead. See the migration notes for details: https://github.com/RaRe-Technologies/smart_open/blob/master/README.rst#migrating-to-the-new-open-function\n",
            "  'See the migration notes for details: %s' % _MIGRATION_NOTES_URL\n"
          ],
          "name": "stderr"
        },
        {
          "output_type": "stream",
          "text": [
            "[===============================================---] 95.9% 100.5/104.8MB downloaded\n",
            "Saved glove model\n",
            "[===-----------------------------------------------] 7.3% 121.3/1662.8MB downloaded"
          ],
          "name": "stdout"
        }
      ]
    },
    {
      "cell_type": "code",
      "metadata": {
        "id": "tZ7oTmjdQA3W"
      },
      "source": [
        "def getWordVec(word,model):\n",
        "        samp=model['computer'];\n",
        "        vec=[0]*len(samp);\n",
        "        try:\n",
        "                vec=model[word];\n",
        "        except:\n",
        "                vec=[0]*len(samp);\n",
        "        return (vec)\n",
        "\n",
        "content/drive/My Drive/\n",
        "def getPhraseEmbedding(phrase,embeddingmodel):\n",
        "                       \n",
        "        samp=getWordVec('computer', embeddingmodel);\n",
        "        vec=numpy.array([0]*len(samp));\n",
        "        den=0;\n",
        "        for word in phrase.split():\n",
        "            #print(word)\n",
        "            den=den+1;\n",
        "            vec=vec+numpy.array(getWordVec(word,embeddingmodel));\n",
        "        #vec=vec/den;\n",
        "        #return (vec.tolist());\n",
        "        return vec.reshape(1, -1)\n"
      ],
      "execution_count": null,
      "outputs": []
    },
    {
      "cell_type": "code",
      "metadata": {
        "id": "8lzptjrFQA3c",
        "outputId": "750dfd72-5e09-4f18-93d3-4f49ad56d76b",
        "colab": {
          "base_uri": "https://localhost:8080/",
          "height": 550
        }
      },
      "source": [
        "#With w2Vec\n",
        "\n",
        "sent_embeddings=[];\n",
        "for sent in cleaned_sentences:\n",
        "    sent_embeddings.append(getPhraseEmbedding(sent,v2w_model));\n",
        "\n",
        "question_embedding=getPhraseEmbedding(question,v2w_model);\n",
        "\n",
        "retrieveAndPrintFAQAnswer(question_embedding,sent_embeddings,df, cleaned_sentences);"
      ],
      "execution_count": null,
      "outputs": [
        {
          "output_type": "stream",
          "text": [
            "0 0.42883351712089035 job hunting experience look like\n",
            "1 0.33900238109038106 insights offer ds job market\n",
            "2 0.2992552732030833 whats impact covid hiring ds roles\n",
            "3 0.5991923709091536 skills qualities employers look data scientist\n",
            "4 0.2836109001421265 employers look advanced ml degree\n",
            "5 0.7728937373489242 typical day data scientist look like\n",
            "6 0.6020050170744113 preparation algorithms data structures needed data science interview\n",
            "7 0.6440332904913527 mathematical background required data scientist\n",
            "8 0.5696568380249727 rounds data scientist interview\n",
            "9 0.5920593804800891 level proficiency needed data scientist coding\n",
            "\n",
            "\n",
            "Question:  what does a data scientist usually do \n",
            "\n",
            "\n",
            "Retrieved:  How does a typical day of a data scientist look like?\n",
            "Here are some tasks in the typical day of a data scientist:\n",
            "\n",
            "Make a plan for the day\n",
            "Look at data, what clean up is required, figure out what models can be built\n",
            "Talk to various stakeholders about what modeling is possible and help them narrow down to something useful for the business\n",
            "Build models, test and debug (takes a long time)\n",
            "Parameter tuning – test tons and tons of parameters (takes a long time)\n",
            "Come up with prod architecture to get deployment ready\n",
            "Write ML pipeline for production ready modeles – deploy them\n",
            "Wait for long time till we have a significant sample to see if they are working\n",
            "Analyze and see whether the models are working as expected, have any impact\n",
            "Come up with improvements/ corrections based on prod feedback and prepare for next iteration.\n",
            "Meeting with team members / daily sprints / bug triages based on production feedback – Interaction with ML Manager, Product Manager, Developers, Data engineers\n"
          ],
          "name": "stdout"
        }
      ]
    },
    {
      "cell_type": "code",
      "metadata": {
        "id": "6mvmYl4GQA3l",
        "outputId": "57537f45-bfea-4aac-91b8-8997c2669224",
        "colab": {
          "base_uri": "https://localhost:8080/",
          "height": 550
        }
      },
      "source": [
        "#With Glove\n",
        "\n",
        "sent_embeddings=[];\n",
        "for sent in cleaned_sentences:\n",
        "    sent_embeddings.append(getPhraseEmbedding(sent,glove_model));\n",
        "    \n",
        "question_embedding=getPhraseEmbedding(question,glove_model);\n",
        "\n",
        "retrieveAndPrintFAQAnswer(question_embedding,sent_embeddings,df, cleaned_sentences);\n"
      ],
      "execution_count": null,
      "outputs": [
        {
          "output_type": "stream",
          "text": [
            "0 0.9206842895542597 job hunting experience look like\n",
            "1 0.774016663828011 insights offer ds job market\n",
            "2 0.8574905678154825 whats impact covid hiring ds roles\n",
            "3 0.8762150927509162 skills qualities employers look data scientist\n",
            "4 0.8210408780157618 employers look advanced ml degree\n",
            "5 0.9545922769035372 typical day data scientist look like\n",
            "6 0.8004428870598751 preparation algorithms data structures needed data science interview\n",
            "7 0.7939550540301473 mathematical background required data scientist\n",
            "8 0.8481202624655193 rounds data scientist interview\n",
            "9 0.7833404988245978 level proficiency needed data scientist coding\n",
            "\n",
            "\n",
            "Question:  what does a data scientist usually do \n",
            "\n",
            "\n",
            "Retrieved:  How does a typical day of a data scientist look like?\n",
            "Here are some tasks in the typical day of a data scientist:\n",
            "\n",
            "Make a plan for the day\n",
            "Look at data, what clean up is required, figure out what models can be built\n",
            "Talk to various stakeholders about what modeling is possible and help them narrow down to something useful for the business\n",
            "Build models, test and debug (takes a long time)\n",
            "Parameter tuning – test tons and tons of parameters (takes a long time)\n",
            "Come up with prod architecture to get deployment ready\n",
            "Write ML pipeline for production ready modeles – deploy them\n",
            "Wait for long time till we have a significant sample to see if they are working\n",
            "Analyze and see whether the models are working as expected, have any impact\n",
            "Come up with improvements/ corrections based on prod feedback and prepare for next iteration.\n",
            "Meeting with team members / daily sprints / bug triages based on production feedback – Interaction with ML Manager, Product Manager, Developers, Data engineers\n"
          ],
          "name": "stdout"
        }
      ]
    },
    {
      "cell_type": "code",
      "metadata": {
        "id": "xgdKbfTyarIi"
      },
      "source": [
        "word_embeddings = {}\n",
        "f = open('/content/drive/My Drive/glove.6B.50d.txt', encoding='utf-8')\n",
        "for line in f:\n",
        "    values = line.split()\n",
        "    word = values[0]\n",
        "    coefs = np.asarray(values[1:], dtype='float32')\n",
        "    word_embeddings[word] = coefs\n",
        "f.close()"
      ],
      "execution_count": 5,
      "outputs": []
    },
    {
      "cell_type": "code",
      "metadata": {
        "id": "kg19tk-1bFmo",
        "outputId": "d56c753e-3f58-4804-ded9-667f45ac2555",
        "colab": {
          "base_uri": "https://localhost:8080/",
          "height": 238
        }
      },
      "source": [
        "import numpy\n",
        "\n",
        "sentences=cleaned_sentences_with_stopwords\n",
        "#sentences=cleaned_sentence\n",
        "# Split it by white space \n",
        "\n",
        "def to_embeddings(sentences):\n",
        "  sentence_embeddings = []\n",
        "  for i in sentences:\n",
        "    embedding = 0\n",
        "    for j in i.split():\n",
        "      if j.lower() in word_embeddings.keys():\n",
        "        embedding = embedding + word_embeddings[j.lower()]\n",
        "      else:\n",
        "        embedding = embedding + 0\n",
        "    sentence_embeddings.append(embedding)\n",
        "  return sentence_embeddings\n",
        "\n",
        "\n",
        "# print(sentence_words)\n",
        "#question_orig=\"do I need to learn algorithms to be a data scientist ?\";\n",
        "question_orig = \"What does a data scientist usually do ?\"\n",
        "question = clean_sentence(question_orig,stopwords=False);\n",
        "question_orig1 = \"What do humans prefer in doing?\"\n",
        "question1 = clean_sentence(question_orig,stopwords=False);\n",
        "questions = [question, question_orig1]\n",
        "question_embedding = to_embeddings(questions)\n",
        "sentence_embedding = to_embeddings(sentences)\n",
        "\n",
        "print(\"\\n\\n\",questions[0],\"\\n\",question_embedding[0])"
      ],
      "execution_count": 23,
      "outputs": [
        {
          "output_type": "stream",
          "text": [
            "\n",
            "\n",
            " what does a data scientist usually do  \n",
            " [  2.04863      1.087411     1.314591    -0.45947397   3.53518\n",
            "   0.415484    -2.8729692   -1.9457641    0.73331      1.131673\n",
            "   1.0990722    2.208189    -0.4647811    0.85565764   3.658369\n",
            "   2.6704597    1.27837      0.10503104  -0.49616003  -3.9680302\n",
            "  -0.984607     0.52141005   1.8839871    1.1960222    3.3998709\n",
            " -12.698191    -4.9879303    0.07104997   2.121264    -1.9939917\n",
            "  22.32824     -1.852275    -3.03632     -5.17369     -0.31823444\n",
            "  -0.741351    -0.279228     1.422767     2.4439898   -1.7121599\n",
            "   0.412417     1.298311    -0.06184793   2.956221     1.176533\n",
            "  -0.3063413    1.942003     2.3413553    0.675182     3.3266    ]\n"
          ],
          "name": "stdout"
        }
      ]
    },
    {
      "cell_type": "code",
      "metadata": {
        "id": "ec_IcK-fWDou",
        "outputId": "84b3ec13-c396-4417-e99c-4b4a84df0bab",
        "colab": {
          "base_uri": "https://localhost:8080/",
          "height": 510
        }
      },
      "source": [
        "import sklearn\n",
        "from sklearn.metrics.pairwise import cosine_similarity;\n",
        "def retrieveAndPrintFAQAnswer(question_embedding,sentence_embeddings,FAQdf,sentences):\n",
        "    max_sim=-1;\n",
        "    index_sim=-1;\n",
        "    for index,faq_embedding in enumerate(sentence_embeddings):\n",
        "        #sim=cosine_similarity(embedding.reshape(1, -1),question_embedding.reshape(1, -1))[0][0];\n",
        "        sim=cosine_similarity(faq_embedding,question_embedding)[0][0];\n",
        "        print(index, sim, sentences[index])\n",
        "        if sim>max_sim:\n",
        "            max_sim=sim;\n",
        "            index_sim=index;\n",
        "       \n",
        "    print(\"\\n\")\n",
        "    print(\"Question: \",question)\n",
        "    print(\"\\n\");\n",
        "    print(\"Retrieved: \",FAQdf.iloc[index_sim,0]) \n",
        "    print(FAQdf.iloc[index_sim,1])        \n",
        "    \n",
        "retrieveAndPrintFAQAnswer(question_embedding,sentence_embeddings,df,sentences);"
      ],
      "execution_count": 26,
      "outputs": [
        {
          "output_type": "stream",
          "text": [
            "0 0.9480069103041211 what does the job hunting experience look like \n",
            "1 0.9464539073073249 any insights you can offer about the ds job market \n",
            "2 0.8794594994791511 whats the impact of covid on hiring for ds roles\n",
            "3 0.9636426794334769 what skills and qualities do employers look for in a data scientist\n",
            "4 0.9037824349411201 do employers look for an advanced ml degree\n",
            "5 0.9741942434274995 how does a typical day of a data scientist look like\n",
            "6 0.9174136303708036 is preparation of algorithms and data structures needed for a data science interview \n",
            "7 0.9655353308642876 what is the mathematical background required to be a data scientist \n",
            "8 0.9289537900536793 what are the various rounds in a data scientist interview \n",
            "9 0.9338446313881938 what level of proficiency is needed for a data scientist in coding\n",
            "\n",
            "\n",
            "Question:  what does a data scientist usually do \n",
            "\n",
            "\n",
            "Retrieved:  How does a typical day of a data scientist look like?\n",
            "Here are some tasks in the typical day of a data scientist:\n",
            "\n",
            "Make a plan for the day\n",
            "Look at data, what clean up is required, figure out what models can be built\n",
            "Talk to various stakeholders about what modeling is possible and help them narrow down to something useful for the business\n",
            "Build models, test and debug (takes a long time)\n",
            "Parameter tuning – test tons and tons of parameters (takes a long time)\n",
            "Come up with prod architecture to get deployment ready\n",
            "Write ML pipeline for production ready modeles – deploy them\n",
            "Wait for long time till we have a significant sample to see if they are working\n",
            "Analyze and see whether the models are working as expected, have any impact\n",
            "Come up with improvements/ corrections based on prod feedback and prepare for next iteration.\n",
            "Meeting with team members / daily sprints / bug triages based on production feedback – Interaction with ML Manager, Product Manager, Developers, Data engineers\n"
          ],
          "name": "stdout"
        }
      ]
    },
    {
      "cell_type": "code",
      "metadata": {
        "id": "8AiAjW9manM_"
      },
      "source": [
        ""
      ],
      "execution_count": null,
      "outputs": []
    },
    {
      "cell_type": "code",
      "metadata": {
        "id": "_ygsI2JoStOQ",
        "outputId": "277747c4-2fe9-498c-891d-f06b31c66e08",
        "colab": {
          "base_uri": "https://localhost:8080/",
          "height": 219
        }
      },
      "source": [
        "!pip install bert-serving-client"
      ],
      "execution_count": null,
      "outputs": [
        {
          "output_type": "stream",
          "text": [
            "Collecting bert-serving-client\n",
            "  Downloading https://files.pythonhosted.org/packages/1f/09/aae1405378a848b2e87769ad89a43d6d71978c4e15534ca48e82e723a72f/bert_serving_client-1.10.0-py2.py3-none-any.whl\n",
            "Requirement already satisfied: pyzmq>=17.1.0 in /usr/local/lib/python3.6/dist-packages (from bert-serving-client) (19.0.2)\n",
            "Requirement already satisfied: numpy in /usr/local/lib/python3.6/dist-packages (from bert-serving-client) (1.19.2)\n",
            "Installing collected packages: bert-serving-client\n",
            "Successfully installed bert-serving-client-1.10.0\n"
          ],
          "name": "stdout"
        },
        {
          "output_type": "display_data",
          "data": {
            "application/vnd.colab-display-data+json": {
              "pip_warning": {
                "packages": [
                  "bert_serving"
                ]
              }
            }
          },
          "metadata": {
            "tags": []
          }
        }
      ]
    },
    {
      "cell_type": "code",
      "metadata": {
        "id": "im9gW6gPQA4D"
      },
      "source": [
        ""
      ],
      "execution_count": null,
      "outputs": []
    }
  ]
}